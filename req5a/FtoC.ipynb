{
  "nbformat": 4,
  "nbformat_minor": 0,
  "metadata": {
    "colab": {
      "provenance": [],
      "collapsed_sections": [
        "T9rTEATCmiCa",
        "k3SvjzLVfZ6g",
        "6CL9kq4ZiLSC",
        "OoD8G3e4i7_6"
      ]
    },
    "kernelspec": {
      "name": "python3",
      "display_name": "Python 3"
    },
    "language_info": {
      "name": "python"
    }
  },
  "cells": [
    {
      "cell_type": "markdown",
      "source": [
        "# Temperature Conversion\n",
        "\n",
        "As part of this colab, I'm going to show you how to create python functions to convert Celsius to Farenheit, and then back again.\n",
        "\n",
        "Then I'm going to give it back to you and have you figure out how to Celsius to Kelvin, and same with Farenheit to Kelvin.\n",
        "\n",
        "## Why Colab and Why Python?\n",
        "\n",
        "Colab, short for Google Colaboratory, is a free cloud-based service that lets you write and run Python code in your browser.  It is VERY VERY popular for Data Scientists, ML Coders, and also Classroom settings.\n",
        "\n",
        "## Background\n",
        "\n",
        "Here are the formulas you need to know to convert between the two temperature scales.\n",
        "\n",
        "### Farenheit to Celsius\n",
        "\n",
        "$f = (c*9/5) + 32$\n",
        "\n",
        "\n",
        "### Celsius to Farenheit\n",
        "\n",
        "$c = (f-32)*(5/9) $\n",
        "\n",
        "\n"
      ],
      "metadata": {
        "id": "hVVlioNcfOa3"
      }
    },
    {
      "cell_type": "markdown",
      "source": [
        "## Example Starter Code"
      ],
      "metadata": {
        "id": "T9rTEATCmiCa"
      }
    },
    {
      "cell_type": "markdown",
      "source": [
        "### Convert Farenheit to Celsius"
      ],
      "metadata": {
        "id": "rVW_u6AFfXk0"
      }
    },
    {
      "cell_type": "code",
      "execution_count": null,
      "metadata": {
        "colab": {
          "base_uri": "https://localhost:8080/"
        },
        "id": "_jlfjBqSe3OU",
        "outputId": "1cc26b34-1311-43da-e113-3515f15c36f8"
      },
      "outputs": [
        {
          "output_type": "execute_result",
          "data": {
            "text/plain": [
              "28.000000000000004"
            ]
          },
          "metadata": {},
          "execution_count": 27
        }
      ],
      "source": [
        "F = 82.4 # @param {\"type\":\"number\"}\n",
        "\n",
        "def f_to_c(f):\n",
        "  return (f-32)/1.8\n",
        "\n",
        "f_to_c(F)"
      ]
    },
    {
      "cell_type": "markdown",
      "source": [
        "#### Test the function\n",
        "\n",
        "\n"
      ],
      "metadata": {
        "id": "op2RylN4iDFA"
      }
    },
    {
      "cell_type": "code",
      "source": [
        "assert f_to_c(32.0) == 0\n",
        "assert f_to_c(212.0) == 100\n",
        "assert f_to_c(82.4) == 28.000000000000004"
      ],
      "metadata": {
        "id": "BSLZe22whaaF"
      },
      "execution_count": null,
      "outputs": []
    },
    {
      "cell_type": "markdown",
      "source": [
        "### Convert Celsius to Farenheit"
      ],
      "metadata": {
        "id": "k3SvjzLVfZ6g"
      }
    },
    {
      "cell_type": "code",
      "source": [
        "C = 100 # @param {\"type\":\"number\"}\n",
        "\n",
        "def c_to_f(c):\n",
        "  return (c*1.8) + 32\n",
        "\n",
        "c_to_f(C)"
      ],
      "metadata": {
        "colab": {
          "base_uri": "https://localhost:8080/"
        },
        "id": "kADVEJfrfaDB",
        "outputId": "3bb069c3-c70e-4044-b1ce-c4209c40a5c5"
      },
      "execution_count": null,
      "outputs": [
        {
          "output_type": "execute_result",
          "data": {
            "text/plain": [
              "212.0"
            ]
          },
          "metadata": {},
          "execution_count": 36
        }
      ]
    },
    {
      "cell_type": "markdown",
      "source": [
        "#### Test the function"
      ],
      "metadata": {
        "id": "6CL9kq4ZiLSC"
      }
    },
    {
      "cell_type": "code",
      "source": [
        "assert c_to_f(100) == 212.0\n",
        "assert c_to_f(0) == 32\n",
        "assert c_to_f(28) == 82.4"
      ],
      "metadata": {
        "id": "bwguFRLsiKv8"
      },
      "execution_count": null,
      "outputs": []
    },
    {
      "cell_type": "code",
      "source": [],
      "metadata": {
        "id": "9AykMjSIjCII"
      },
      "execution_count": null,
      "outputs": []
    },
    {
      "cell_type": "markdown",
      "source": [
        "## Your Turn\n",
        "\n",
        "Now it's your time to figure out how to do this yourself.\n"
      ],
      "metadata": {
        "id": "1OQW8_yjnBAJ"
      }
    },
    {
      "cell_type": "markdown",
      "source": [
        "\n",
        "### Kelvin to Celsius\n",
        "\n",
        "$ C = K - 273.15$\n",
        "\n",
        "### Kelvin to Farenheit\n",
        "\n",
        "$F = (K-273.15) * (9/5) + 32$\n",
        "\n",
        "### Testing Data\n",
        "\n",
        "| Farenheit | Celsius | Kelvin |\n",
        "|-----------|---------|--------|\n",
        "| 32        | 0       | 273.15 |\n",
        "| 212       | 100     | 373.15 |\n",
        "| 82.4      | 28      | 301.15 |\n"
      ],
      "metadata": {
        "id": "SS5xVN-9qPw_"
      }
    },
    {
      "cell_type": "markdown",
      "source": [
        "### Convert Celsius to Kelvin"
      ],
      "metadata": {
        "id": "OoD8G3e4i7_6"
      }
    },
    {
      "cell_type": "code",
      "source": [
        "K = 100 # @param {\"type\":\"number\"}\n"
      ],
      "metadata": {
        "colab": {
          "base_uri": "https://localhost:8080/"
        },
        "outputId": "c0e1bde6-ec01-47fd-ec48-88ec689595ea",
        "id": "HsWfRz2jiqvw"
      },
      "execution_count": null,
      "outputs": [
        {
          "output_type": "execute_result",
          "data": {
            "text/plain": [
              "212.0"
            ]
          },
          "metadata": {},
          "execution_count": 30
        }
      ]
    },
    {
      "cell_type": "markdown",
      "source": [
        "#### Test the function"
      ],
      "metadata": {
        "id": "4lgfsR8niqvx"
      }
    },
    {
      "cell_type": "code",
      "source": [],
      "metadata": {
        "id": "_ky9-I-7iqvy"
      },
      "execution_count": null,
      "outputs": []
    },
    {
      "cell_type": "markdown",
      "source": [
        "### Convert Farenheit to Kelvin"
      ],
      "metadata": {
        "id": "jL3QhQcNi9wq"
      }
    },
    {
      "cell_type": "code",
      "source": [
        "K = 100 # @param {\"type\":\"number\"}\n"
      ],
      "metadata": {
        "colab": {
          "base_uri": "https://localhost:8080/"
        },
        "outputId": "c0e1bde6-ec01-47fd-ec48-88ec689595ea",
        "id": "L_sq-8Ddi9wr"
      },
      "execution_count": null,
      "outputs": [
        {
          "output_type": "execute_result",
          "data": {
            "text/plain": [
              "212.0"
            ]
          },
          "metadata": {},
          "execution_count": 30
        }
      ]
    },
    {
      "cell_type": "markdown",
      "source": [
        "#### Test the function"
      ],
      "metadata": {
        "id": "Lukm7Dsbi9ws"
      }
    },
    {
      "cell_type": "code",
      "source": [],
      "metadata": {
        "id": "SGHhkeD0i9ws"
      },
      "execution_count": null,
      "outputs": []
    }
  ]
}